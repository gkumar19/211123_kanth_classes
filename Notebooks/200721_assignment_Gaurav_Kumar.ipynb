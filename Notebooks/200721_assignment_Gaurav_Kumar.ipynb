{
 "cells": [
  {
   "cell_type": "code",
   "execution_count": 1,
   "metadata": {},
   "outputs": [],
   "source": [
    "'''\n",
    "The notebook gives examples on following methods of list\n",
    "\n",
    "append() - Add an element to the end of the list\n",
    "extend() - Add all elements of a list to the another list\n",
    "insert()- I nsert an item at the defined index\n",
    "remove() - Removes an item from the list\n",
    "pop() - Removes and returns an element at the given index\n",
    "clear() - Removes all items from the list\n",
    "index() - Returns the index of the first matched item\n",
    "count() - Returns the count of number of items passed as an argument\n",
    "sort() - Sort items in a list in ascending order\n",
    "reverse() - Reverse the order of items in the list\n",
    "copy() - Returns a shallow copy of the list\n",
    "Built-in Functions with List\n",
    "all() Return True if all elements of the list are true \n",
    "        (or if the list is empty).\n",
    "any() Return True if any element of the list is true. \n",
    "        If the list is empty, return False.\n",
    "enumerate() Return an enumerate object. It contains the index \n",
    "            and value of all the items of list as a tuple.\n",
    "len() Return the length (the number of items) in the list.\n",
    "list() Convert an iterable (tuple, string, set, dictionary) to a list.\n",
    "max() Return the largest item in the list.\n",
    "min() Return the smallest item in the list\n",
    "sorted() Return a new sorted list (does not sort the list itself).\n",
    "sum() Return the sum of all elements in the list.\n",
    "'''\n",
    "pass"
   ]
  },
  {
   "cell_type": "code",
   "execution_count": 2,
   "metadata": {},
   "outputs": [
    {
     "name": "stdout",
     "output_type": "stream",
     "text": [
      "['apple', 'banana', 'mango']\n"
     ]
    }
   ],
   "source": [
    "#creating list\n",
    "my_shopping_list = ['apple', 'banana', 'mango']\n",
    "print(my_shopping_list)"
   ]
  },
  {
   "cell_type": "code",
   "execution_count": 3,
   "metadata": {},
   "outputs": [
    {
     "name": "stdout",
     "output_type": "stream",
     "text": [
      "['apple', 'banana', 'mango', 'pineapple']\n"
     ]
    }
   ],
   "source": [
    "#adding an element at end\n",
    "my_shopping_list.append('pineapple')\n",
    "print(my_shopping_list)"
   ]
  },
  {
   "cell_type": "code",
   "execution_count": 4,
   "metadata": {},
   "outputs": [
    {
     "name": "stdout",
     "output_type": "stream",
     "text": [
      "['apple', 'banana', 'mango', 'pineapple', 'table', 'chair', 'fan']\n"
     ]
    }
   ],
   "source": [
    "#adding multiple element\n",
    "my_shopping_list.extend(['table', 'chair', 'fan'])\n",
    "print(my_shopping_list)"
   ]
  },
  {
   "cell_type": "code",
   "execution_count": 5,
   "metadata": {},
   "outputs": [
    {
     "name": "stdout",
     "output_type": "stream",
     "text": [
      "['apple', 'cake', 'banana', 'mango', 'pineapple', 'table', 'chair', 'fan']\n"
     ]
    }
   ],
   "source": [
    "#adding element at perticular location\n",
    "my_shopping_list.insert(1, 'cake')\n",
    "print(my_shopping_list)"
   ]
  },
  {
   "cell_type": "code",
   "execution_count": 6,
   "metadata": {},
   "outputs": [
    {
     "name": "stdout",
     "output_type": "stream",
     "text": [
      "['apple', 'cake', 'banana', 'mango', 'pineapple', 'table', 'fan']\n"
     ]
    }
   ],
   "source": [
    "#remove an elemenet\n",
    "my_shopping_list.remove('chair')\n",
    "print(my_shopping_list)"
   ]
  },
  {
   "cell_type": "code",
   "execution_count": 7,
   "metadata": {},
   "outputs": [
    {
     "name": "stdout",
     "output_type": "stream",
     "text": [
      "['apple', 'cake', 'banana', 'mango', 'table', 'fan']\n",
      "pineapple\n"
     ]
    }
   ],
   "source": [
    "#remove an element and return it\n",
    "my_fourth_element = my_shopping_list.pop(4)\n",
    "print(my_shopping_list)\n",
    "print(my_fourth_element)"
   ]
  },
  {
   "cell_type": "code",
   "execution_count": 8,
   "metadata": {},
   "outputs": [
    {
     "name": "stdout",
     "output_type": "stream",
     "text": [
      "[]\n"
     ]
    }
   ],
   "source": [
    "#make the list empty\n",
    "my_shopping_list.clear()\n",
    "print(my_shopping_list)"
   ]
  },
  {
   "cell_type": "code",
   "execution_count": 9,
   "metadata": {},
   "outputs": [
    {
     "name": "stdout",
     "output_type": "stream",
     "text": [
      "3\n"
     ]
    }
   ],
   "source": [
    "#deducing index of an element\n",
    "my_shopping_list = ['apple', 'cake', 'banana', 'mango', 'pineapple', 'table', 'chair', 'fan', 'cake']\n",
    "index_of_mango = my_shopping_list.index('mango')\n",
    "print(index_of_mango)"
   ]
  },
  {
   "cell_type": "code",
   "execution_count": 10,
   "metadata": {},
   "outputs": [
    {
     "name": "stdout",
     "output_type": "stream",
     "text": [
      "2\n"
     ]
    }
   ],
   "source": [
    "#counting an element\n",
    "num_cake = my_shopping_list.count('cake')\n",
    "print(num_cake)"
   ]
  },
  {
   "cell_type": "code",
   "execution_count": 11,
   "metadata": {},
   "outputs": [
    {
     "name": "stdout",
     "output_type": "stream",
     "text": [
      "['apple', 'banana', 'cake', 'cake', 'chair', 'fan', 'mango', 'pineapple', 'table']\n"
     ]
    }
   ],
   "source": [
    "#sorting the list\n",
    "my_shopping_list.sort()\n",
    "print(my_shopping_list)"
   ]
  },
  {
   "cell_type": "code",
   "execution_count": 12,
   "metadata": {},
   "outputs": [
    {
     "name": "stdout",
     "output_type": "stream",
     "text": [
      "['table', 'pineapple', 'mango', 'fan', 'chair', 'cake', 'cake', 'banana', 'apple']\n"
     ]
    }
   ],
   "source": [
    "#reversing the list\n",
    "my_shopping_list.reverse()\n",
    "print(my_shopping_list)"
   ]
  },
  {
   "cell_type": "code",
   "execution_count": 13,
   "metadata": {},
   "outputs": [
    {
     "data": {
      "text/plain": [
       "False"
      ]
     },
     "execution_count": 13,
     "metadata": {},
     "output_type": "execute_result"
    }
   ],
   "source": [
    "#boolean operation\n",
    "my_bollean_list = [True, False, True]\n",
    "all(my_bollean_list)"
   ]
  },
  {
   "cell_type": "code",
   "execution_count": 14,
   "metadata": {},
   "outputs": [
    {
     "data": {
      "text/plain": [
       "True"
      ]
     },
     "execution_count": 14,
     "metadata": {},
     "output_type": "execute_result"
    }
   ],
   "source": [
    "#boolean operation\n",
    "any(my_bollean_list)"
   ]
  },
  {
   "cell_type": "code",
   "execution_count": 15,
   "metadata": {},
   "outputs": [
    {
     "name": "stdout",
     "output_type": "stream",
     "text": [
      "element at 0: table\n",
      "element at 1: pineapple\n",
      "element at 2: mango\n",
      "element at 3: fan\n",
      "element at 4: chair\n",
      "element at 5: cake\n",
      "element at 6: cake\n",
      "element at 7: banana\n",
      "element at 8: apple\n"
     ]
    }
   ],
   "source": [
    "#enumerating the list\n",
    "for index, name in enumerate(my_shopping_list):\n",
    "    print(f'element at {index}: {name}')"
   ]
  },
  {
   "cell_type": "code",
   "execution_count": 16,
   "metadata": {},
   "outputs": [
    {
     "name": "stdout",
     "output_type": "stream",
     "text": [
      "number of elemenets in shopping cart is 9\n"
     ]
    }
   ],
   "source": [
    "#length of the list\n",
    "len_of_shopping = len(my_shopping_list)\n",
    "print(f'number of elemenets in shopping cart is {len_of_shopping}')"
   ]
  },
  {
   "cell_type": "code",
   "execution_count": 17,
   "metadata": {},
   "outputs": [
    {
     "name": "stdout",
     "output_type": "stream",
     "text": [
      "['Gaurav', 'Kumar']\n",
      "<class 'list'>\n"
     ]
    }
   ],
   "source": [
    "#converting to the list\n",
    "my_tuple = ('Gaurav', 'Kumar')\n",
    "my_list = list(my_tuple)\n",
    "print(my_list)\n",
    "print(type(my_list))"
   ]
  },
  {
   "cell_type": "code",
   "execution_count": 18,
   "metadata": {},
   "outputs": [
    {
     "name": "stdout",
     "output_type": "stream",
     "text": [
      "numerical list: [9, 7, 4, 2, 3, 4, 1, 2, 0, 1]\n",
      "max number: 9\n",
      "min number: 0\n",
      "sorted numbers: [0, 1, 1, 2, 2, 3, 4, 4, 7, 9]\n",
      "sum of numbers: 33\n"
     ]
    }
   ],
   "source": [
    "#max, min, sort, sum a list\n",
    "my_numerical_list = [9,7,4,2,3,4,1,2,0,1]\n",
    "print(f'numerical list: {my_numerical_list}')\n",
    "print(f'max number: {max(my_numerical_list)}')\n",
    "print(f'min number: {min(my_numerical_list)}')\n",
    "print(f'sorted numbers: {sorted(my_numerical_list)}')\n",
    "print(f'sum of numbers: {sum(my_numerical_list)}')"
   ]
  }
 ],
 "metadata": {
  "kernelspec": {
   "display_name": "Python 3",
   "language": "python",
   "name": "python3"
  },
  "language_info": {
   "codemirror_mode": {
    "name": "ipython",
    "version": 3
   },
   "file_extension": ".py",
   "mimetype": "text/x-python",
   "name": "python",
   "nbconvert_exporter": "python",
   "pygments_lexer": "ipython3",
   "version": "3.7.6"
  }
 },
 "nbformat": 4,
 "nbformat_minor": 4
}
