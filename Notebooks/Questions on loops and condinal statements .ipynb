{
 "cells": [
  {
   "cell_type": "markdown",
   "metadata": {},
   "source": [
    "# if Statements"
   ]
  },
  {
   "cell_type": "code",
   "execution_count": 4,
   "metadata": {},
   "outputs": [
    {
     "name": "stdout",
     "output_type": "stream",
     "text": [
      "21\n"
     ]
    }
   ],
   "source": [
    "#increment the value by 1\n",
    "x = 20\n",
    "if (x ==20):\n",
    "    x+=1\n",
    "print(x)"
   ]
  },
  {
   "cell_type": "code",
   "execution_count": 9,
   "metadata": {},
   "outputs": [
    {
     "name": "stdout",
     "output_type": "stream",
     "text": [
      "19\n",
      "eligible\n"
     ]
    }
   ],
   "source": [
    "#Determine weather a person is eligible to vote by using  input \n",
    "x = int(input())\n",
    "if x > 18:\n",
    "    print('eligible')"
   ]
  },
  {
   "cell_type": "markdown",
   "metadata": {},
   "source": [
    "# if - else Statements"
   ]
  },
  {
   "cell_type": "code",
   "execution_count": 3,
   "metadata": {},
   "outputs": [],
   "source": [
    "#Determine weather a person is eligible to vote by using input\n",
    "x = int(input())\n",
    "if x > 18:\n",
    "    print('eligible')\n",
    "else:\n",
    "    print('not')"
   ]
  },
  {
   "cell_type": "code",
   "execution_count": 14,
   "metadata": {},
   "outputs": [
    {
     "name": "stdout",
     "output_type": "stream",
     "text": [
      "19\n",
      "not\n"
     ]
    }
   ],
   "source": [
    "#find the number is even or odd by using input\n",
    "print('even') if x%2 == 0 else print('not')"
   ]
  },
  {
   "cell_type": "code",
   "execution_count": 33,
   "metadata": {},
   "outputs": [
    {
     "name": "stdout",
     "output_type": "stream",
     "text": [
      "100\n",
      "m\n",
      "110.00000000000001\n"
     ]
    }
   ],
   "source": [
    "# A company decides to give bonus to all its employees on New year. A 10% bonus on salary for all the male workers and\n",
    "# 25% to females. build a programme to enter Salary and Gender(m or F) of employee. \n",
    "\n",
    "def revised_salary():\n",
    "    salary = float(input())\n",
    "    gender = str(input())\n",
    "    if True:\n",
    "        r_salary = salary*1.1\n",
    "    elif gender == \"f\":\n",
    "        r_salary = salary*1.25\n",
    "    print(r_salary)\n",
    "\n",
    "revised_salary()\n"
   ]
  },
  {
   "cell_type": "markdown",
   "metadata": {},
   "source": [
    "# if -elif- else Statement"
   ]
  },
  {
   "cell_type": "code",
   "execution_count": 34,
   "metadata": {
    "scrolled": true
   },
   "outputs": [
    {
     "name": "stdout",
     "output_type": "stream",
     "text": [
      "0\n",
      "equal 0\n"
     ]
    }
   ],
   "source": [
    "# check weather the number is positive or negitive or equal to zero using input\n",
    "x = float(input())\n",
    "if x == 0:\n",
    "    print('equal 0')\n",
    "elif x < 0:\n",
    "    print('less 0')\n",
    "else:\n",
    "    print('greater 0')"
   ]
  },
  {
   "cell_type": "code",
   "execution_count": 37,
   "metadata": {},
   "outputs": [
    {
     "name": "stdout",
     "output_type": "stream",
     "text": [
      "A\n",
      "vowel\n"
     ]
    }
   ],
   "source": [
    "# Test Weather the charcter is vowel or not vowel using input\n",
    "x = input().lower()\n",
    "print('vowel') if (x in ['a', 'e', 'i', 'o', 'u']) else print('no vowel')"
   ]
  },
  {
   "cell_type": "markdown",
   "metadata": {},
   "source": [
    "# while loop "
   ]
  },
  {
   "cell_type": "code",
   "execution_count": 39,
   "metadata": {},
   "outputs": [
    {
     "name": "stdout",
     "output_type": "stream",
     "text": [
      "1\t2\t3\t4\t5\t6\t7\t8\t9\t10\t"
     ]
    }
   ],
   "source": [
    "# print first 10 numbers \n",
    "i = 1\n",
    "while i <= 10:\n",
    "    print(i, end='\\t')\n",
    "    i +=1"
   ]
  },
  {
   "cell_type": "code",
   "execution_count": 41,
   "metadata": {},
   "outputs": [
    {
     "name": "stdout",
     "output_type": "stream",
     "text": [
      "65\n",
      "5.909090909090909\n"
     ]
    }
   ],
   "source": [
    "# find average and sum for first 10 numbers \n",
    "i = 1\n",
    "summation = 0\n",
    "while i <= 10:\n",
    "    i +=1\n",
    "    summation = summation + i\n",
    "average = summation / i\n",
    "print(summation)\n",
    "print(average)"
   ]
  },
  {
   "cell_type": "code",
   "execution_count": 49,
   "metadata": {},
   "outputs": [
    {
     "name": "stdout",
     "output_type": "stream",
     "text": [
      "----------"
     ]
    }
   ],
   "source": [
    "#Draw a line using while loop\n",
    "i = 0\n",
    "while i<10:\n",
    "    print('-', end='')\n",
    "    i+=1"
   ]
  },
  {
   "cell_type": "code",
   "execution_count": 47,
   "metadata": {},
   "outputs": [
    {
     "name": "stdout",
     "output_type": "stream",
     "text": [
      "1\n",
      "2\n",
      "3\n"
     ]
    }
   ],
   "source": [
    "#calculate the sum of m to n  numbers using input\n",
    "m = int(input())\n",
    "n = int(input())\n",
    "i = m\n",
    "sum = 0\n",
    "while i <= n:\n",
    "    sum+=i\n",
    "    i+=1\n",
    "print(sum)"
   ]
  },
  {
   "cell_type": "code",
   "execution_count": 50,
   "metadata": {},
   "outputs": [
    {
     "name": "stdout",
     "output_type": "stream",
     "text": [
      "3\n",
      "3\t2\t1\t0\t"
     ]
    }
   ],
   "source": [
    "# countdown 10 to 0 using input\n",
    "x = int(input())\n",
    "while x >= 0:\n",
    "    print(x, end='\\t')\n",
    "    x-=1"
   ]
  },
  {
   "cell_type": "markdown",
   "metadata": {},
   "source": [
    "# for loop "
   ]
  },
  {
   "cell_type": "code",
   "execution_count": 48,
   "metadata": {},
   "outputs": [
    {
     "name": "stdout",
     "output_type": "stream",
     "text": [
      "0\t3\t6\t9\t12\t15\t18\t21\t24\t27\t"
     ]
    }
   ],
   "source": [
    "#Multiplication table using input\n",
    "for i in range(10):\n",
    "    print(i*3, end='\\t')"
   ]
  },
  {
   "cell_type": "code",
   "execution_count": 51,
   "metadata": {},
   "outputs": [
    {
     "name": "stdout",
     "output_type": "stream",
     "text": [
      "even: 0\n",
      "odd: 1\n",
      "even: 2\n",
      "odd: 3\n",
      "even: 4\n",
      "odd: 5\n",
      "even: 6\n",
      "odd: 7\n",
      "even: 8\n",
      "odd: 9\n"
     ]
    }
   ],
   "source": [
    "#print even and odd for range of number\n",
    "for i in range(10):\n",
    "    print(f'even: {i}') if i%2==0 else print(f'odd: {i}')"
   ]
  },
  {
   "cell_type": "code",
   "execution_count": 54,
   "metadata": {},
   "outputs": [
    {
     "name": "stdout",
     "output_type": "stream",
     "text": [
      "0\n",
      "1\n",
      "2\n",
      "3\n",
      "4\n",
      "5\n"
     ]
    }
   ],
   "source": [
    "# break statement\n",
    "for i in range(10):\n",
    "    print(i)\n",
    "    if i == 5:\n",
    "        break"
   ]
  },
  {
   "cell_type": "code",
   "execution_count": 59,
   "metadata": {},
   "outputs": [
    {
     "name": "stdout",
     "output_type": "stream",
     "text": [
      "6\n",
      "7\n",
      "8\n",
      "9\n"
     ]
    }
   ],
   "source": [
    "#countinue statement \n",
    "for i in range(10):\n",
    "    if i <= 5:\n",
    "        continue\n",
    "    print(i)"
   ]
  },
  {
   "cell_type": "code",
   "execution_count": 57,
   "metadata": {},
   "outputs": [
    {
     "name": "stdout",
     "output_type": "stream",
     "text": [
      "leap year: 1804\n",
      "leap year: 1808\n",
      "leap year: 1812\n",
      "leap year: 1816\n",
      "leap year: 1820\n",
      "leap year: 1824\n",
      "leap year: 1828\n",
      "leap year: 1832\n",
      "leap year: 1836\n",
      "leap year: 1840\n",
      "leap year: 1844\n",
      "leap year: 1848\n",
      "leap year: 1852\n",
      "leap year: 1856\n",
      "leap year: 1860\n",
      "leap year: 1864\n",
      "leap year: 1868\n",
      "leap year: 1872\n",
      "leap year: 1876\n",
      "leap year: 1880\n",
      "leap year: 1884\n",
      "leap year: 1888\n",
      "leap year: 1892\n",
      "leap year: 1896\n",
      "leap year: 1904\n",
      "leap year: 1908\n",
      "leap year: 1912\n",
      "leap year: 1916\n",
      "leap year: 1920\n",
      "leap year: 1924\n",
      "leap year: 1928\n",
      "leap year: 1932\n",
      "leap year: 1936\n",
      "leap year: 1940\n",
      "leap year: 1944\n",
      "leap year: 1948\n",
      "leap year: 1952\n",
      "leap year: 1956\n",
      "leap year: 1960\n",
      "leap year: 1964\n",
      "leap year: 1968\n",
      "leap year: 1972\n",
      "leap year: 1976\n",
      "leap year: 1980\n",
      "leap year: 1984\n",
      "leap year: 1988\n",
      "leap year: 1992\n",
      "leap year: 1996\n",
      "leap year: 2000\n",
      "leap year: 2004\n",
      "leap year: 2008\n",
      "leap year: 2012\n",
      "leap year: 2016\n",
      "leap year: 2020\n"
     ]
    }
   ],
   "source": [
    "# all leap years from 1800 - 2021\n",
    "for yr in range(1800, 2021+1):\n",
    "    if yr%4==0:\n",
    "        if yr%100==0:\n",
    "            if yr%400==0:\n",
    "                print('leap year:', yr)\n",
    "        else:\n",
    "            print('leap year:', yr)"
   ]
  },
  {
   "cell_type": "code",
   "execution_count": null,
   "metadata": {},
   "outputs": [],
   "source": []
  },
  {
   "cell_type": "markdown",
   "metadata": {},
   "source": [
    "# User defined function "
   ]
  },
  {
   "cell_type": "code",
   "execution_count": 60,
   "metadata": {},
   "outputs": [],
   "source": [
    "#creating arethematic operators using user defined functions\n",
    "def add_(x, y):\n",
    "    return x+y"
   ]
  },
  {
   "cell_type": "code",
   "execution_count": 62,
   "metadata": {},
   "outputs": [
    {
     "name": "stdout",
     "output_type": "stream",
     "text": [
      "bob\n",
      "welcome bob\n"
     ]
    }
   ],
   "source": [
    "#Welcome With input \n",
    "def welcome():\n",
    "    x = input()\n",
    "    print('welcome', x)\n",
    "welcome()"
   ]
  },
  {
   "cell_type": "code",
   "execution_count": null,
   "metadata": {},
   "outputs": [],
   "source": []
  },
  {
   "cell_type": "markdown",
   "metadata": {},
   "source": [
    "# Lambda function "
   ]
  },
  {
   "cell_type": "code",
   "execution_count": 63,
   "metadata": {},
   "outputs": [
    {
     "data": {
      "text/plain": [
       "3"
      ]
     },
     "execution_count": 63,
     "metadata": {},
     "output_type": "execute_result"
    }
   ],
   "source": [
    "# sum using lambda function \n",
    "func = lambda a, b : a+b\n",
    "func(1, 2)"
   ]
  },
  {
   "cell_type": "code",
   "execution_count": null,
   "metadata": {},
   "outputs": [],
   "source": []
  }
 ],
 "metadata": {
  "kernelspec": {
   "display_name": "Python 3",
   "language": "python",
   "name": "python3"
  },
  "language_info": {
   "codemirror_mode": {
    "name": "ipython",
    "version": 3
   },
   "file_extension": ".py",
   "mimetype": "text/x-python",
   "name": "python",
   "nbconvert_exporter": "python",
   "pygments_lexer": "ipython3",
   "version": "3.7.6"
  },
  "toc": {
   "base_numbering": 1,
   "nav_menu": {},
   "number_sections": true,
   "sideBar": true,
   "skip_h1_title": false,
   "title_cell": "Table of Contents",
   "title_sidebar": "Contents",
   "toc_cell": false,
   "toc_position": {},
   "toc_section_display": true,
   "toc_window_display": false
  }
 },
 "nbformat": 4,
 "nbformat_minor": 2
}
