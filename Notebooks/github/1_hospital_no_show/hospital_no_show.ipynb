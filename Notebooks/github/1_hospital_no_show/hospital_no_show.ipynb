{
 "cells": [
  {
   "cell_type": "code",
   "execution_count": null,
   "metadata": {},
   "outputs": [],
   "source": [
    "import plotly.express as px\n",
    "import pandas as pd\n",
    "import seaborn as sns\n",
    "import numpy as np\n",
    "import plotly\n",
    "px.defaults.template = 'seaborn'\n",
    "px.defaults.width = 700\n",
    "px.defaults.height = 500"
   ]
  },
  {
   "cell_type": "code",
   "execution_count": null,
   "metadata": {},
   "outputs": [],
   "source": [
    "df = pd.read_csv('hospital_no_show.csv')"
   ]
  },
  {
   "cell_type": "code",
   "execution_count": null,
   "metadata": {},
   "outputs": [],
   "source": [
    "df['No-show'].value_counts()"
   ]
  },
  {
   "cell_type": "code",
   "execution_count": null,
   "metadata": {},
   "outputs": [],
   "source": [
    "df.sample(10)"
   ]
  },
  {
   "cell_type": "code",
   "execution_count": null,
   "metadata": {},
   "outputs": [],
   "source": [
    "df.nunique()"
   ]
  },
  {
   "cell_type": "code",
   "execution_count": null,
   "metadata": {},
   "outputs": [],
   "source": [
    "px.pie(df, names='No-show', color='No-show', hole=0.3, title='Data Distribution')"
   ]
  },
  {
   "cell_type": "code",
   "execution_count": null,
   "metadata": {},
   "outputs": [],
   "source": [
    "px.histogram(df, x='No-show', color='No-show', title='Number of data observations')"
   ]
  },
  {
   "cell_type": "code",
   "execution_count": null,
   "metadata": {},
   "outputs": [],
   "source": [
    "px.box(df, y='No-show', x='Age', color='No-show', title='Relationship with Age')"
   ]
  },
  {
   "cell_type": "code",
   "execution_count": null,
   "metadata": {},
   "outputs": [],
   "source": [
    "fig = px.histogram(df, color='No-show', x='Age', title='Relationship with Age', barnorm='fraction')\n",
    "fig.show()"
   ]
  },
  {
   "cell_type": "code",
   "execution_count": null,
   "metadata": {
    "scrolled": false
   },
   "outputs": [],
   "source": [
    "def percent_calc(x):\n",
    "    value_counts = x['No-show'].value_counts()\n",
    "    value_counts = value_counts*100/value_counts.sum()\n",
    "    return value_counts\n",
    "\n",
    "cols_categorical = ['Gender', 'Scholarship','Hipertension','Diabetes',\n",
    "                    'Alcoholism','Handcap','SMS_received']\n",
    "for col in cols_categorical:\n",
    "    fig = px.bar(df.groupby(col).apply(percent_calc), title='Relationship with Gender').update_yaxes(title_text='Percent')\n",
    "    fig.show()"
   ]
  },
  {
   "cell_type": "code",
   "execution_count": null,
   "metadata": {},
   "outputs": [],
   "source": [
    "df_loc = pd.crosstab(df['Neighbourhood'], df['No-show'])\n",
    "total = df_loc['No'] + df_loc['Yes']\n",
    "df_loc['No'] = df_loc['No']*100/total\n",
    "df_loc['Yes'] = df_loc['Yes']*100/total\n",
    "df_loc\n",
    "px.bar(df_loc).update_yaxes(title_text='Percent')"
   ]
  },
  {
   "cell_type": "code",
   "execution_count": null,
   "metadata": {},
   "outputs": [],
   "source": [
    "df_loc = pd.crosstab(df['Neighbourhood'], df['No-show'])\n",
    "total = df_loc['No'] + df_loc['Yes']\n",
    "df_loc\n",
    "px.bar(df_loc).update_yaxes(title_text='Count')"
   ]
  },
  {
   "cell_type": "code",
   "execution_count": null,
   "metadata": {},
   "outputs": [],
   "source": [
    "df = pd.read_csv('hospital_no_show.csv')"
   ]
  },
  {
   "cell_type": "code",
   "execution_count": null,
   "metadata": {},
   "outputs": [],
   "source": [
    "date_delta = pd.to_datetime(df.AppointmentDay) - pd.to_datetime(df.ScheduledDay)\n",
    "date_delta = date_delta.dt.days\n",
    "df['date_delta'] = date_delta\n",
    "filt = df['date_delta'] < 0\n",
    "df.loc[filt,'date_delta'] = 0\n",
    "df['day'] = pd.to_datetime(df.AppointmentDay).dt.day_name()\n",
    "df['month'] = pd.to_datetime(df.AppointmentDay).dt.month_name()\n",
    "\n",
    "def plot_bar_corr(x, percent=True):\n",
    "    df_loc = pd.crosstab(df[x], df['No-show'])\n",
    "    if percent==True:\n",
    "        total = df_loc['No'] + df_loc['Yes']\n",
    "        df_loc['No'] = df_loc['No']*100/total\n",
    "        df_loc['Yes'] = df_loc['Yes']*100/total\n",
    "        fig = px.bar(df_loc).update_yaxes(title_text='Percent')\n",
    "    else:\n",
    "        fig = px.bar(df_loc).update_yaxes(title_text='Count')\n",
    "    fig.show()\n",
    "\n",
    "plot_bar_corr('date_delta')\n",
    "plot_bar_corr('date_delta', percent=False)"
   ]
  },
  {
   "cell_type": "code",
   "execution_count": null,
   "metadata": {},
   "outputs": [],
   "source": [
    "plot_bar_corr('day')\n",
    "plot_bar_corr('day', percent=False)"
   ]
  },
  {
   "cell_type": "code",
   "execution_count": null,
   "metadata": {},
   "outputs": [],
   "source": [
    "plot_bar_corr('month')\n",
    "plot_bar_corr('month', percent=False)"
   ]
  },
  {
   "cell_type": "code",
   "execution_count": null,
   "metadata": {},
   "outputs": [],
   "source": [
    "def occurance_duplicates(df, idx=None, order=None):\n",
    "    df_copy = df.copy()\n",
    "    df_copy.sort_values(by=order, inplace=True)\n",
    "    df_copy.reset_index(inplace=True, drop=True)\n",
    "    df_copy['No-show'].replace({'No': 0, 'Yes': 1}, inplace=True)\n",
    "    #df_copy['occurance'] = df_copy.groupby(idx).apply(lambda x: np.arange(1,len(x)+1)).explode().values\n",
    "    #df_copy.sort_index(inplace=True)\n",
    "    def add_occurance(x):\n",
    "        x['occurance'] = np.arange(len(x))\n",
    "        #x['cumsum'] = np.cumsum(x['No-show'])/np.arange(1, len(x)+1)\n",
    "        x['cumsum'] = np.concatenate([np.array([np.nan]),np.cumsum(x['No-show'].values)[:-1] ])/np.arange(len(x))\n",
    "        return x\n",
    "    df_copy = df_copy.groupby(idx).apply(add_occurance)\n",
    "    return df_copy\n",
    "df['appt_date'] = pd.to_datetime(df.AppointmentDay)\n",
    "df_occurance = occurance_duplicates(df, idx='PatientId', order='appt_date')"
   ]
  },
  {
   "cell_type": "code",
   "execution_count": null,
   "metadata": {},
   "outputs": [],
   "source": [
    "df_occurance['No-show'] = df_occurance['No-show'].replace({0: 'No', 1:'Yes'})\n",
    "def plot_bar_corr(df, x, percent=True):\n",
    "    df_loc = pd.crosstab(df[x], df['No-show'])\n",
    "    if percent==True:\n",
    "        total = df_loc['No'] + df_loc['Yes']\n",
    "        df_loc['No'] = df_loc['No']*100/total\n",
    "        df_loc['Yes'] = df_loc['Yes']*100/total\n",
    "        fig = px.bar(df_loc).update_yaxes(title_text='Percent')\n",
    "    else:\n",
    "        fig = px.bar(df_loc).update_yaxes(title_text='Count')\n",
    "    fig.show()\n",
    "\n",
    "plot_bar_corr(df_occurance,'occurance')\n",
    "plot_bar_corr(df_occurance,'occurance', percent=False)"
   ]
  },
  {
   "cell_type": "code",
   "execution_count": null,
   "metadata": {},
   "outputs": [],
   "source": [
    "filt = (df_occurance['cumsum'] < 1) & (df_occurance['cumsum'] > 0)\n",
    "px.box(df_occurance.loc[filt,:], x='No-show', y='cumsum', color='No-show', title='Relationship with past probability')"
   ]
  },
  {
   "cell_type": "code",
   "execution_count": null,
   "metadata": {},
   "outputs": [],
   "source": [
    "df_model = df_occurance.copy()\n",
    "df_model.drop(['PatientId', 'AppointmentID', 'Neighbourhood', 'appt_date'], inplace=True, axis=1)\n",
    "\n",
    "df_model['date'] = pd.to_datetime(df_model.AppointmentDay).dt.day\n",
    "\n",
    "df_model['date_delta'] = (pd.to_datetime(df_model.AppointmentDay) - pd.to_datetime(df_model.ScheduledDay)).dt.days\n",
    "filt = df_model['date_delta'] < 0\n",
    "df_model.loc[filt,'date_delta'] = 0\n",
    "\n",
    "df_model['day'] = pd.to_datetime(df_model.AppointmentDay).dt.day_name()\n",
    "\n",
    "df_model.drop(['ScheduledDay', 'AppointmentDay'], inplace=True, axis=1)\n",
    "\n",
    "y = df_model.pop('No-show')\n",
    "y = y.replace({'No': 0, 'Yes': 1})\n",
    "X = df_model.copy()"
   ]
  },
  {
   "cell_type": "code",
   "execution_count": null,
   "metadata": {},
   "outputs": [],
   "source": [
    "from sklearn.model_selection import train_test_split\n",
    "X_train, X_test, y_train, y_test = train_test_split(X, y, test_size=0.33, random_state=42)"
   ]
  },
  {
   "cell_type": "code",
   "execution_count": null,
   "metadata": {},
   "outputs": [],
   "source": [
    "#%% create dataflow and model pipeline\n",
    "from sklearn.pipeline import Pipeline\n",
    "from sklearn.linear_model import LogisticRegression\n",
    "from sklearn.model_selection import cross_val_score\n",
    "from sklearn.preprocessing import OneHotEncoder, StandardScaler\n",
    "from sklearn.compose import ColumnTransformer\n",
    "from sklearn.impute import SimpleImputer\n",
    "from sklearn.ensemble import ExtraTreesClassifier\n",
    "from sklearn.metrics import classification_report\n",
    "\n",
    "oh_columns = ['Gender', 'day', 'month']\n",
    "imp_columns = ['cumsum']\n",
    "\n",
    "imp_transformer = Pipeline(steps=[\n",
    "    ('imputer', SimpleImputer(strategy='mean')),\n",
    "    ('impute_scale', StandardScaler())\n",
    "])\n",
    "\n",
    "num_columns = ['Age', 'occurance', 'date', 'date_delta', 'Handcap']\n",
    "\n",
    "ct = ColumnTransformer([('imputer', imp_transformer, imp_columns),\n",
    "                        ('ohe', OneHotEncoder(sparse=False, handle_unknown='ignore'), oh_columns),\n",
    "                        ('scale',StandardScaler(), num_columns)], remainder='passthrough')\n",
    "\n",
    "pipeline = Pipeline([('column_transform', ct),\n",
    "                     ('model', ExtraTreesClassifier())])\n",
    "\n",
    "pipeline.fit(X_train, y_train)\n",
    "\n",
    "print(pipeline.score(X_train, y_train))\n",
    "print(classification_report(y_train, pipeline.predict(X_train)>0.5))\n",
    "\n",
    "print(pipeline.score(X_test, y_test))\n",
    "print(classification_report(y_test, pipeline.predict(X_test)>0.5))"
   ]
  },
  {
   "cell_type": "code",
   "execution_count": null,
   "metadata": {},
   "outputs": [],
   "source": [
    "from sklearn.metrics import confusion_matrix\n",
    "import matplotlib.pyplot as plt\n",
    "cm = confusion_matrix(y_test, pipeline.predict(X_test)>0.5)\n",
    "sns.heatmap(cm, annot=True , fmt='d', cmap='Blues')\n",
    "plt.ylabel('actual')\n",
    "plt.xlabel('prediction')"
   ]
  },
  {
   "cell_type": "code",
   "execution_count": null,
   "metadata": {},
   "outputs": [],
   "source": [
    "from sklearn.metrics import confusion_matrix\n",
    "import matplotlib.pyplot as plt\n",
    "cm = confusion_matrix(y_train, pipeline.predict(X_train)>0.5)\n",
    "sns.heatmap(cm, annot=True , fmt='d', cmap='Blues')\n",
    "plt.ylabel('actual')\n",
    "plt.xlabel('prediction')"
   ]
  },
  {
   "cell_type": "code",
   "execution_count": null,
   "metadata": {},
   "outputs": [],
   "source": [
    "thresholds = np.linspace(0.1, 0.9, 20)\n",
    "from sklearn.metrics import roc_curve\n",
    "from plotly import graph_objects as go\n",
    "from sklearn.metrics import classification_report\n",
    "\n",
    "def plot_roc(labels, predictions):\n",
    "    fp, tp, thresholds = roc_curve(labels, predictions)\n",
    "    fig1 = px.line(x=100*fp, y=100*tp).update_traces(line_color='red')\n",
    "    fig2 = px.line(x=100*fp, y=100*thresholds).update_traces(line_color='yellow')\n",
    "    fig = go.Figure()\n",
    "    fig.add_traces(fig1.data)\n",
    "    fig.add_traces(fig2.data)\n",
    "    fig.update_xaxes(title_text='False Positive')\n",
    "    fig.update_yaxes(title_text='True Positive')\n",
    "    fig.show()\n",
    "    print(fig1.data)\n",
    "plot_roc(y_test, pipeline.predict(X_test))"
   ]
  },
  {
   "cell_type": "code",
   "execution_count": null,
   "metadata": {},
   "outputs": [],
   "source": [
    "from sklearn.inspection import permutation_importance\n",
    "\n",
    "feature_importance_test = permutation_importance(pipeline, X_test, y_test,\n",
    "                            n_repeats=30,\n",
    "                            random_state=0)"
   ]
  },
  {
   "cell_type": "code",
   "execution_count": null,
   "metadata": {},
   "outputs": [],
   "source": [
    "fi = pd.DataFrame(feature_importance_test['importances'].T, columns= list(X_train.columns))\n",
    "plt.boxplot(fi.T)\n",
    "plt.show()"
   ]
  },
  {
   "cell_type": "code",
   "execution_count": null,
   "metadata": {},
   "outputs": [],
   "source": [
    "px.box(fi)"
   ]
  },
  {
   "cell_type": "code",
   "execution_count": null,
   "metadata": {},
   "outputs": [],
   "source": [
    "transfored_X_train = pipeline['column_transform'].transform(X_train)\n",
    "transfored_X_train = pd.DataFrame(transfored_X_train)\n",
    "transfored_X_train.head()"
   ]
  },
  {
   "cell_type": "code",
   "execution_count": null,
   "metadata": {},
   "outputs": [],
   "source": [
    "fi.head()"
   ]
  },
  {
   "cell_type": "code",
   "execution_count": null,
   "metadata": {},
   "outputs": [],
   "source": []
  }
 ],
 "metadata": {
  "kernelspec": {
   "display_name": "Python 3",
   "language": "python",
   "name": "python3"
  }
 },
 "nbformat": 4,
 "nbformat_minor": 4
}
