{
 "cells": [
  {
   "cell_type": "code",
   "execution_count": null,
   "metadata": {},
   "outputs": [],
   "source": [
    "import plotly.express as px\n",
    "import pandas as pd\n",
    "import seaborn as sns\n",
    "import numpy as np\n",
    "import plotly\n",
    "import sweetviz as sv\n",
    "px.defaults.template = 'seaborn'\n",
    "px.defaults.width = 700\n",
    "px.defaults.height = 500\n",
    "pd.set_option('display.max_columns', 30)"
   ]
  },
  {
   "cell_type": "code",
   "execution_count": null,
   "metadata": {},
   "outputs": [],
   "source": [
    "df = pd.read_excel('INX_Future_Inc_Employee_Performance_CDS_Project2_Data_V1.8.xls',\n",
    "                   sheet_name='INX_Future_Inc_Employee_Perform')"
   ]
  },
  {
   "cell_type": "code",
   "execution_count": null,
   "metadata": {},
   "outputs": [],
   "source": [
    "category_orders = {'PerformanceRating': [2, 3, 4]}\n",
    "df.head()"
   ]
  },
  {
   "cell_type": "code",
   "execution_count": null,
   "metadata": {},
   "outputs": [],
   "source": [
    "my_report = sv.analyze(df)\n",
    "my_report.show_html()"
   ]
  },
  {
   "cell_type": "code",
   "execution_count": null,
   "metadata": {},
   "outputs": [],
   "source": [
    "fig = px.pie(df.sample(frac=1), names='PerformanceRating', color='PerformanceRating', hole=0.3,\n",
    "             title='Performance Rating Distribution')\n",
    "fig.show()\n",
    "fig = px.histogram(df, x='PerformanceRating', color='PerformanceRating',\n",
    "                   title='Number of data observations', category_orders=category_orders)\n",
    "fig.show()"
   ]
  },
  {
   "cell_type": "code",
   "execution_count": null,
   "metadata": {
    "scrolled": false
   },
   "outputs": [],
   "source": [
    "cols_numerical = ['Age', 'DistanceFromHome', 'EmpEducationLevel', 'EmpEducationLevel', 'EmpEnvironmentSatisfaction',\n",
    "                  'EmpHourlyRate','EmpJobInvolvement', 'EmpJobLevel', 'EmpJobSatisfaction', 'NumCompaniesWorked',\n",
    "                  'EmpLastSalaryHikePercent', 'EmpRelationshipSatisfaction', 'TotalWorkExperienceInYears',\n",
    "                  'TrainingTimesLastYear', 'EmpWorkLifeBalance', 'ExperienceYearsAtThisCompany',\n",
    "                  'ExperienceYearsInCurrentRole', 'YearsSinceLastPromotion', 'YearsWithCurrManager']\n",
    "\n",
    "for col in cols_numerical:\n",
    "    fig = px.histogram(df, color='PerformanceRating', x=col, title=f'Relationship with {col}',\n",
    "                       barnorm='percent', category_orders=category_orders)\n",
    "    fig.show()\n",
    "    fig = px.histogram(df, color='PerformanceRating', x=col, title=f'Relationship with {col}',\n",
    "                       category_orders=category_orders)\n",
    "    fig.show()\n",
    "    fig = px.violin(df, x=col, color='PerformanceRating',\n",
    "                   category_orders=category_orders, title=f'Relationship with {col}')\n",
    "    fig.show()"
   ]
  },
  {
   "cell_type": "code",
   "execution_count": null,
   "metadata": {
    "scrolled": false
   },
   "outputs": [],
   "source": [
    "cols_categorical = ['Gender', 'EducationBackground','MaritalStatus','EmpDepartment','EmpJobRole',\n",
    "                    'BusinessTravelFrequency', 'OverTime', 'Attrition']\n",
    "\n",
    "for col in cols_categorical:\n",
    "    fig = px.histogram(df, x=col, color='PerformanceRating', barnorm='percent',\n",
    "                       category_orders=category_orders, title=f'Relationship with {col}')\n",
    "    fig.show()\n",
    "    fig = px.histogram(df, x=col, color='PerformanceRating',\n",
    "                   category_orders=category_orders, title=f'Relationship with {col}')\n",
    "    fig.show()"
   ]
  },
  {
   "cell_type": "code",
   "execution_count": null,
   "metadata": {},
   "outputs": [],
   "source": [
    "from scipy.stats import chi2_contingency\n",
    "#H0 is No correlation\n",
    "#Lower P Rejection of H0 and association is proven\n",
    "df_p_values_cat_cols = pd.DataFrame(columns=['pvalues'], index=cols_categorical)\n",
    "for col in cols_categorical:\n",
    "    stat, p, dof, expected = chi2_contingency(pd.crosstab(df['PerformanceRating'], df[col]).values)\n",
    "    df_p_values_cat_cols.at[col, 'pvalues'] = p\n",
    "px.bar(df_p_values_cat_cols, x=df_p_values_cat_cols.index, color=df_p_values_cat_cols.index, y='pvalues',\n",
    "       title='chi squared test for correlation')"
   ]
  },
  {
   "cell_type": "code",
   "execution_count": null,
   "metadata": {},
   "outputs": [],
   "source": [
    "corr_mat = df[cols_numerical + ['PerformanceRating']].corr()\n",
    "sns.heatmap(corr_mat)"
   ]
  },
  {
   "cell_type": "code",
   "execution_count": null,
   "metadata": {},
   "outputs": [],
   "source": [
    "corr_columns = [i for i in corr_mat.columns if i not in ['PerformanceRating']]\n",
    "corr_df = corr_mat.loc[corr_columns,['PerformanceRating', 'Age']]\n",
    "px.bar(corr_df,x=corr_df.index, color=corr_df.index,y = 'PerformanceRating',\n",
    "       title='correlation coeff for numerical features', height=690).update_yaxes(title_text='correlation_coefficient')"
   ]
  },
  {
   "cell_type": "code",
   "execution_count": null,
   "metadata": {},
   "outputs": [],
   "source": [
    "corr_mat.loc['PerformanceRating', :].plot.bar()"
   ]
  },
  {
   "cell_type": "code",
   "execution_count": null,
   "metadata": {},
   "outputs": [],
   "source": [
    "corr_mat.loc[corr_columns,['PerformanceRating', 'Age']]"
   ]
  },
  {
   "cell_type": "code",
   "execution_count": null,
   "metadata": {},
   "outputs": [],
   "source": [
    "corr_mat_one_side = corr_mat.copy()\n",
    "for i in range(len(corr_mat_one_side)):\n",
    "    for j in range(i):\n",
    "        corr_mat_one_side.iat[i, j] = 0\n",
    "corr_mat_one_side\n",
    "\n",
    "filt1 = corr_mat_one_side.melt(ignore_index=False)['value'] != 1\n",
    "filt2 = corr_mat_one_side.melt(ignore_index=False)['value'] != 0\n",
    "filt = filt1 & filt2\n",
    "corr_mat_one_side.melt(ignore_index=False)[filt].sort_values('value', ascending=False).head(20)"
   ]
  },
  {
   "cell_type": "code",
   "execution_count": null,
   "metadata": {},
   "outputs": [],
   "source": [
    "pd.crosstab(df['EmpDepartment'], df['EmpJobRole'])"
   ]
  },
  {
   "cell_type": "code",
   "execution_count": null,
   "metadata": {},
   "outputs": [],
   "source": []
  }
 ],
 "metadata": {
  "kernelspec": {
   "display_name": "Python 3",
   "language": "python",
   "name": "python3"
  },
  "language_info": {
   "codemirror_mode": {
    "name": "ipython",
    "version": 3
   },
   "file_extension": ".py",
   "mimetype": "text/x-python",
   "name": "python",
   "nbconvert_exporter": "python",
   "pygments_lexer": "ipython3",
   "version": "3.7.6"
  }
 },
 "nbformat": 4,
 "nbformat_minor": 4
}
